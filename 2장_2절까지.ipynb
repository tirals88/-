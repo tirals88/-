{
  "nbformat": 4,
  "nbformat_minor": 0,
  "metadata": {
    "colab": {
      "provenance": [],
      "collapsed_sections": [
        "mSvnn-ZWd9ef",
        "UhcQBmxwO5Vm"
      ],
      "include_colab_link": true
    },
    "kernelspec": {
      "name": "python3",
      "display_name": "Python 3"
    },
    "language_info": {
      "name": "python"
    }
  },
  "cells": [
    {
      "cell_type": "markdown",
      "metadata": {
        "id": "view-in-github",
        "colab_type": "text"
      },
      "source": [
        "<a href=\"https://colab.research.google.com/github/tirals88/Alone-ML-DL/blob/main/2%EC%9E%A5_2%EC%A0%88%EA%B9%8C%EC%A7%80.ipynb\" target=\"_parent\"><img src=\"https://colab.research.google.com/assets/colab-badge.svg\" alt=\"Open In Colab\"/></a>"
      ]
    },
    {
      "cell_type": "markdown",
      "source": [
        "'혼자 공부하는 머신러닝 + 딥러닝' 책 스터디 내용을 jupyter notebook으로 정리하여 올립니다.\n",
        "\n",
        "Github 주소 : 'https://github.com/rickiepark/hg-mldl'\n",
        "\n",
        "**혼자 공부하는 머신러닝+딥러닝**\n",
        "\n",
        "https://hanbit.co.kr/store/books/look.php?p_code=B2002963743\n",
        "\n",
        "01 ~ 06 머신러닝 파트  \n",
        "07 ~ 09 딥러닝 파트"
      ],
      "metadata": {
        "id": "WdeE-kzODzDl"
      }
    },
    {
      "cell_type": "markdown",
      "source": [
        "# 02-2 데이터 전처리\n",
        "\n",
        "\n",
        "이전의 데이터 처리는 **파이썬 리스트**를 사용하였지만, **넘파이**로 더 빠르고 효율적으로 처리할 수 있다.\n",
        "\n",
        "\n",
        "\n",
        "```\n",
        "np.column_stack(list_lists)\n",
        "np.column_stack(([1,2,3],[4,5,6]))\n",
        "\n",
        ">>> array([[1, 4],\n",
        "           [2, 5],\n",
        "           [3, 6]])\n",
        "\n",
        "np.concatenate(list_lists)\n",
        "np.concatenate(([1,2,3],[4,5,6]))\n",
        "\n",
        ">>> array([[1, 2, 3, 4, 5, 6])\n",
        "```\n",
        "\n"
      ],
      "metadata": {
        "id": "mSvnn-ZWd9ef"
      }
    },
    {
      "cell_type": "code",
      "source": [
        "# 01-3 의 데이터 준비\n",
        "bream_length = [25.4, 26.3, 26.5, 29.0, 29.0, 29.7, 29.7, 30.0, 30.0, 30.7, 31.0, 31.0, 31.5, 32.0, 32.0, 32.0, 33.0, 33.0, 33.5, 33.5, 34.0, 34.0, 34.5, 35.0, 35.0, 35.0, 35.0, 36.0, 36.0, 37.0, 38.5, 38.5, 39.5, 41.0, 41.0]\n",
        "bream_weight = [242.0, 290.0, 340.0, 363.0, 430.0, 450.0, 500.0, 390.0, 450.0, 500.0, 475.0, 500.0, 500.0, 340.0, 600.0, 600.0, 700.0, 700.0, 610.0, 650.0, 575.0, 685.0, 620.0, 680.0, 700.0, 725.0, 720.0, 714.0, 850.0, 1000.0, 920.0, 955.0, 925.0, 975.0, 950.0]\n",
        "\n",
        "smelt_length = [9.8, 10.5, 10.6, 11.0, 11.2, 11.3, 11.8, 11.8, 12.0, 12.2, 12.4, 13.0, 14.3, 15.0]\n",
        "smelt_weight = [6.7, 7.5, 7.0, 9.7, 9.8, 8.7, 10.0, 9.9, 9.8, 12.2, 13.4, 12.2, 19.7, 19.9]\n",
        "\n",
        "length = bream_length + smelt_length\n",
        "weight = bream_weight + smelt_weight\n",
        "\n",
        "# zip() 함수와 리스트 내포 구문을 사용해 2차원 리스트 생성\n",
        "\n",
        "fish_data = [[l, w] for l, w in zip(length, weight)]\n",
        "\n",
        "# 정답 데이터 준비\n",
        "# 도미 = 1, 빙어 = 0 으로 설정\n",
        "\n",
        "fish_target = [1] * 35 + [0] * 14"
      ],
      "metadata": {
        "id": "mty06N0Us27w"
      },
      "execution_count": 1,
      "outputs": []
    },
    {
      "cell_type": "code",
      "source": [
        "# numpy 로 전처리\n",
        "import numpy as np\n",
        "\n",
        "fish_data = np.column_stack((length, weight))\n",
        "print(fish_data[:5])"
      ],
      "metadata": {
        "id": "-FmY2RXbAApw",
        "outputId": "41235945-abd9-401b-cc86-93df921fb25d",
        "colab": {
          "base_uri": "https://localhost:8080/"
        }
      },
      "execution_count": 2,
      "outputs": [
        {
          "output_type": "stream",
          "name": "stdout",
          "text": [
            "[[ 25.4 242. ]\n",
            " [ 26.3 290. ]\n",
            " [ 26.5 340. ]\n",
            " [ 29.  363. ]\n",
            " [ 29.  430. ]]\n"
          ]
        }
      ]
    },
    {
      "cell_type": "code",
      "source": [
        "# np.ones\n",
        "# np.zeros\n",
        "\n",
        "fish_target = np.concatenate((np.ones(35), np.zeros(14)))\n",
        "print(fish_target)"
      ],
      "metadata": {
        "id": "WyB-ThJhAVXm",
        "outputId": "929a085a-e00d-4967-ffb5-63cf74b0633b",
        "colab": {
          "base_uri": "https://localhost:8080/"
        }
      },
      "execution_count": 6,
      "outputs": [
        {
          "output_type": "stream",
          "name": "stdout",
          "text": [
            "[1. 1. 1. 1. 1. 1. 1. 1. 1. 1. 1. 1. 1. 1. 1. 1. 1. 1. 1. 1. 1. 1. 1. 1.\n",
            " 1. 1. 1. 1. 1. 1. 1. 1. 1. 1. 1. 0. 0. 0. 0. 0. 0. 0. 0. 0. 0. 0. 0. 0.\n",
            " 0.]\n"
          ]
        }
      ]
    },
    {
      "cell_type": "markdown",
      "source": [
        "이전 절에서는 훈련 세트와 테스트 세트를 직접 나누었다. 지금은 사이킷런의 함수 **train_test_split()**를 이용하여 나눌 것이다.\n",
        "\n",
        "이 함수는 전달되는 리스트나 배열을 섞어준 뒤 비율에 맞게 훈련 세트와 테스트 세트로 나누어 준다.\n",
        "\n"
      ],
      "metadata": {
        "id": "9r0M6UHLgu1j"
      }
    },
    {
      "cell_type": "code",
      "source": [
        "# train_test_split()\n",
        "# 사이킷런의 model_selection 모듈 아래 있으며 다음과 같이 import 할 수 있다.\n",
        "\n",
        "from sklearn.model_selection import train_test_split\n",
        "\n",
        "# 사용법\n",
        "\n",
        "train_input, test_input, train_target, test_target = train_test_split(\n",
        "    fish_data, fish_target, random_state = 42)"
      ],
      "metadata": {
        "id": "DApN7I1ctmlp"
      },
      "execution_count": 8,
      "outputs": []
    },
    {
      "cell_type": "markdown",
      "source": [
        "fish_data 와 fish_target 2개의 배열을 전달했으므로, 2개씩 나뉘어 총 4개의 배열이 반환된다.\n",
        "\n",
        "차례대로 처음 2개는 입력데이터(train_input, test_input), 나머지 2개는 타깃 데이터(train_target, test_target)이다.\n",
        "\n",
        "랜덤 시드는 42로 설정하였다.\n",
        "\n",
        "또한 기본적으로 25%를 테스트 세트로 떼어 낸다."
      ],
      "metadata": {
        "id": "5VhmMKSbu3zk"
      }
    },
    {
      "cell_type": "code",
      "source": [
        "# 잘 되었는지 numpy의 shape 속성을 통해 확인\n",
        "\n",
        "print(train_input.shape, test_input.shape)\n",
        "print(train_target.shape, test_target.shape)"
      ],
      "metadata": {
        "id": "VdJOKxcADNGx",
        "outputId": "3e1a0274-a02c-4e07-eea6-d56d147282b3",
        "colab": {
          "base_uri": "https://localhost:8080/"
        }
      },
      "execution_count": 11,
      "outputs": [
        {
          "output_type": "stream",
          "name": "stdout",
          "text": [
            "(36, 2) (13, 2)\n",
            "(36,) (13,)\n"
          ]
        }
      ]
    },
    {
      "cell_type": "markdown",
      "source": [
        "위 데이터를 보면 잘 섞인 것 같지만 빙어의 비율이 조금 모자란다. 편향이 조금 있고 이처럼 무작위로 데이터를 나누었을 때 샘플이 골고루 섞이지 않을 수 있다.\n",
        "\n",
        "특히 데이터의 개수가 적을 때 이런 일이 생기기 쉽다.\n",
        "\n",
        "train_test_split() 함수는 이런 문제를 간단히 해결 할 수 있다. \n",
        "\n",
        "stratify 매개변수에 타깃 데이터를 전달하면 클래스 비율에 맞게 데이터를 나눈다.\n",
        "\n",
        "```\n",
        "train_input, test_input, train_target, test_target = train_test_split(\n",
        "    fish_data, fish_target, stratify=fish_target, random_state = 42)\n",
        "```\n",
        "\n"
      ],
      "metadata": {
        "id": "9DUihCKzvX71"
      }
    },
    {
      "cell_type": "code",
      "execution_count": 14,
      "metadata": {
        "id": "BK3oK_a80Tt3",
        "colab": {
          "base_uri": "https://localhost:8080/"
        },
        "outputId": "b09233e0-4f94-4318-c7bb-e16edd06443e"
      },
      "outputs": [
        {
          "output_type": "stream",
          "name": "stdout",
          "text": [
            "[0. 0. 1. 0. 1. 0. 1. 1. 1. 1. 1. 1. 1.]\n"
          ]
        }
      ],
      "source": [
        "# stratify 매개변수에 타깃 데이터를 전달하면 클래스 비율에 맞게 데이터를 나눈다.\n",
        "# 위에서 말했듯 데이터의 개수가 적을 때 특히 유용하다.\n",
        "\n",
        "train_input, test_input, train_target, test_target = train_test_split(\n",
        "    fish_data, fish_target, stratify=fish_target, random_state = 42)\n",
        "\n",
        "print(test_target)"
      ]
    },
    {
      "cell_type": "code",
      "source": [
        "# k-최근접 이웃 훈련\n",
        "\n",
        "from sklearn.neighbors import KNeighborsClassifier\n",
        "kn = KNeighborsClassifier()\n",
        "kn.fit(train_input, train_target)\n",
        "kn.score(test_input, test_target)"
      ],
      "metadata": {
        "colab": {
          "base_uri": "https://localhost:8080/"
        },
        "id": "SFI5ArK4hiQI",
        "outputId": "87bcc79c-697b-4dcc-a1da-c7dfa62c9883"
      },
      "execution_count": 15,
      "outputs": [
        {
          "output_type": "execute_result",
          "data": {
            "text/plain": [
              "1.0"
            ]
          },
          "metadata": {},
          "execution_count": 15
        }
      ]
    },
    {
      "cell_type": "code",
      "source": [
        "# 25cm, 150g 의 도미 판별\n",
        "\n",
        "print(kn.predict([[25, 150]]))\n",
        "\n",
        "print(kn.score([[25, 150]], [1])) # score 함수와 predict 함수 차이"
      ],
      "metadata": {
        "id": "YxdRdIFiXgRu",
        "outputId": "9c55c9d7-44d7-4c8d-e52a-9e6d34e48ba9",
        "colab": {
          "base_uri": "https://localhost:8080/"
        }
      },
      "execution_count": 20,
      "outputs": [
        {
          "output_type": "stream",
          "name": "stdout",
          "text": [
            "[0.]\n",
            "0.0\n"
          ]
        }
      ]
    },
    {
      "cell_type": "markdown",
      "source": [
        "도미의 feature가 25cm 와 150g 으로 주어지자 빙어라고 예측\n",
        "\n",
        "문제점을 파악하기 위해 **산점도**로 표현"
      ],
      "metadata": {
        "id": "FUkvr-EbYKDr"
      }
    },
    {
      "cell_type": "code",
      "source": [
        "import matplotlib.pyplot as plt\n",
        "plt.scatter(train_input[:, 0], train_input[:, 1])\n",
        "plt.scatter(25, 150, marker='^')\n",
        "plt.xlabel('length')\n",
        "plt.ylabel('weight')\n",
        "plt.show()"
      ],
      "metadata": {
        "id": "mdP48pnAYYG8",
        "outputId": "041da773-dea5-4c04-f6e8-7636f380196c",
        "colab": {
          "base_uri": "https://localhost:8080/",
          "height": 279
        }
      },
      "execution_count": 21,
      "outputs": [
        {
          "output_type": "display_data",
          "data": {
            "text/plain": [
              "<Figure size 432x288 with 1 Axes>"
            ],
            "image/png": "[encoded data removed]"
          },
          "metadata": {
            "needs_background": "light"
          }
        }
      ]
    },
    {
      "cell_type": "markdown",
      "source": [
        "이 샘플은 분명히 다른 도미 데이터에 더 가깝다.\n",
        "\n",
        "그렇다면 왜 빙어 데이터에 가깝다고 판단한 것일까?\n",
        "\n",
        "k-최근접 이웃은 주변의 샘플 중 다수인 클래스를 예측으로 사용한다.\n",
        "\n",
        "KNeighborsClassifer 클래스는 주어진 샘플에서 가장 가까운 이웃을 찾아주는 kneighbors() 메서드를 제공한다.\n",
        "\n",
        "KNeighborsClassifier 클래스의 이웃 개수인 n_neighbors의 기본값은 5 이므로 5개의 이웃이 반환된다."
      ],
      "metadata": {
        "id": "vVKEplznkIOO"
      }
    },
    {
      "cell_type": "code",
      "source": [
        "distances, indexes = kn.kneighbors([[25, 150]])\n",
        "print(indexes)\n",
        "train_target[indexes]"
      ],
      "metadata": {
        "colab": {
          "base_uri": "https://localhost:8080/"
        },
        "id": "TbvtSstokhBy",
        "outputId": "8a98c745-a0d6-40d0-e17e-d47cca562d2d"
      },
      "execution_count": 24,
      "outputs": [
        {
          "output_type": "stream",
          "name": "stdout",
          "text": [
            "[[21 33 19 30  1]]\n"
          ]
        },
        {
          "output_type": "execute_result",
          "data": {
            "text/plain": [
              "array([[1., 0., 0., 0., 0.]])"
            ]
          },
          "metadata": {},
          "execution_count": 24
        }
      ]
    },
    {
      "cell_type": "code",
      "source": [
        "# 산점도로 확인\n",
        "plt.scatter(train_input[:, 0], train_input[:, 1])\n",
        "plt.scatter(25, 150, marker=\"^\")\n",
        "plt.scatter(train_input[indexes, 0], train_input[indexes, 1], marker=\"D\")\n",
        "plt.xlabel('length')\n",
        "plt.ylabel('weight')\n",
        "plt.show()"
      ],
      "metadata": {
        "colab": {
          "base_uri": "https://localhost:8080/",
          "height": 279
        },
        "id": "szU6Aai8lhU3",
        "outputId": "42e36398-593c-436c-d47f-18a8e958f958"
      },
      "execution_count": 29,
      "outputs": [
        {
          "output_type": "display_data",
          "data": {
            "text/plain": [
              "<Figure size 432x288 with 1 Axes>"
            ],
            "image/png": "[encoded data removed]"
          },
          "metadata": {
            "needs_background": "light"
          }
        }
      ]
    },
    {
      "cell_type": "markdown",
      "source": [
        "가장 가까운 데이터 5개 중 4개가 빙어로 압도적으로 많음을 확인할 수 있다.\n",
        "\n",
        "객관적으로 보았을 떄와 다르다."
      ],
      "metadata": {
        "id": "Eq6VkwuFblgH"
      }
    },
    {
      "cell_type": "code",
      "source": [
        "test_input = input_arr[index[35:]]\n",
        "test_target = target_arr[index[35:]]\n",
        "\n",
        "import matplotlib.pyplot as plt\n",
        "plt.scatter(train_input[:, 0], train_input[:, 1], label = 'train')\n",
        "plt.scatter(test_input[:, 0], test_input[:, 1], label = 'target')\n",
        "plt.xlabel('length')\n",
        "plt.ylabel('weight')\n",
        "plt.legend()\n",
        "plt.show() # 데이터가 골고루 섞였음을 볼 수 있다."
      ],
      "metadata": {
        "colab": {
          "base_uri": "https://localhost:8080/",
          "height": 279
        },
        "id": "EQLsNpevlhMU",
        "outputId": "be636876-db61-4dd2-a76b-c248a80d01cf"
      },
      "execution_count": null,
      "outputs": [
        {
          "output_type": "display_data",
          "data": {
            "text/plain": [
              "<Figure size 432x288 with 1 Axes>"
            ],
            "image/png": "[encoded data removed]"
          },
          "metadata": {
            "needs_background": "light"
          }
        }
      ]
    },
    {
      "cell_type": "markdown",
      "source": [
        "## 두 번쨰 머신러닝 프로그램\n"
      ],
      "metadata": {
        "id": "H28WiQyxm18g"
      }
    },
    {
      "cell_type": "code",
      "source": [
        "kn = kn.fit(train_input, train_target)\n",
        "kn.score(test_input, test_target)"
      ],
      "metadata": {
        "colab": {
          "base_uri": "https://localhost:8080/"
        },
        "id": "u9zUSmKOnPHI",
        "outputId": "367b7580-e5ca-4b52-bb9b-245e15625e91"
      },
      "execution_count": null,
      "outputs": [
        {
          "output_type": "execute_result",
          "data": {
            "text/plain": [
              "1.0"
            ]
          },
          "metadata": {},
          "execution_count": 34
        }
      ]
    },
    {
      "cell_type": "code",
      "source": [
        "# _predict() 메서드로 테스트 세트 예측결과와 실제 타깃 확인\n",
        "\n",
        "print(kn.predict(test_input))\n",
        "print(test_target)"
      ],
      "metadata": {
        "colab": {
          "base_uri": "https://localhost:8080/"
        },
        "id": "mJRQ6TGkoQg8",
        "outputId": "392d6306-0e67-4fed-ce0b-fe7ad989103a"
      },
      "execution_count": null,
      "outputs": [
        {
          "output_type": "stream",
          "name": "stdout",
          "text": [
            "[0 0 1 0 1 1 1 0 1 1 0 1 1 0]\n",
            "[0 0 1 0 1 1 1 0 1 1 0 1 1 0]\n"
          ]
        }
      ]
    },
    {
      "cell_type": "markdown",
      "source": [
        "### 고찰\n",
        "\n",
        "predict() 메서드의 출력 결과가 test_target의 출력과 동일하게 array()로 감싸 있는 것을 확인할 수 있다. 넘파이 배열을 의미하며 predict()가 반환하는 값은 파이썬 리스트가 아닌, 넘파이 배열이다.\n",
        "\n",
        "**이 절에서는 넘파이의 shuffle() 함수를 사용해 배열의 인덱스를 섞어 골고루 훈련과 테스트 세트로 나누어 학습을 하였다.**"
      ],
      "metadata": {
        "id": "ywx7fDpHogsx"
      }
    }
  ]
}