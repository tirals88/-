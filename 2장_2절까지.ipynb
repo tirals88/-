{
  "nbformat": 4,
  "nbformat_minor": 0,
  "metadata": {
    "colab": {
      "provenance": [],
      "collapsed_sections": [
        "mSvnn-ZWd9ef",
        "UhcQBmxwO5Vm"
      ],
      "include_colab_link": true
    },
    "kernelspec": {
      "name": "python3",
      "display_name": "Python 3"
    },
    "language_info": {
      "name": "python"
    }
  },
  "cells": [
    {
      "cell_type": "markdown",
      "metadata": {
        "id": "view-in-github",
        "colab_type": "text"
      },
      "source": [
        "<a href=\"https://colab.research.google.com/github/tirals88/Alone-ML-DL/blob/main/2%EC%9E%A5_2%EC%A0%88%EA%B9%8C%EC%A7%80.ipynb\" target=\"_parent\"><img src=\"https://colab.research.google.com/assets/colab-badge.svg\" alt=\"Open In Colab\"/></a>"
      ]
    },
    {
      "cell_type": "markdown",
      "source": [
        "'혼자 공부하는 머신러닝 + 딥러닝' 책 스터디 내용을 jupyter notebook으로 정리하여 올립니다.\n",
        "\n",
        "Github 주소 : 'https://github.com/rickiepark/hg-mldl'\n",
        "\n",
        "**혼자 공부하는 머신러닝+딥러닝**\n",
        "\n",
        "https://hanbit.co.kr/store/books/look.php?p_code=B2002963743\n",
        "\n",
        "01 ~ 06 머신러닝 파트  \n",
        "07 ~ 09 딥러닝 파트"
      ],
      "metadata": {
        "id": "WdeE-kzODzDl"
      }
    },
    {
      "cell_type": "markdown",
      "source": [
        "# 02-2 데이터 전처리\n",
        "\n",
        "\n",
        "이전의 데이터 처리는 **파이썬 리스트**를 사용하였지만, **넘파이**로 더 빠르고 효율적으로 처리할 수 있다.\n",
        "\n",
        "\n",
        "\n",
        "```\n",
        "np.column_stack(list_lists)\n",
        "np.column_stack(([1,2,3],[4,5,6]))\n",
        "\n",
        ">>> array([[1, 4],\n",
        "           [2, 5],\n",
        "           [3, 6]])\n",
        "\n",
        "np.concatenate(list_lists)\n",
        "np.concatenate(([1,2,3],[4,5,6]))\n",
        "\n",
        ">>> array([[1, 2, 3, 4, 5, 6])\n",
        "```\n",
        "\n"
      ],
      "metadata": {
        "id": "mSvnn-ZWd9ef"
      }
    },
    {
      "cell_type": "code",
      "source": [
        "# 01-3 의 데이터 준비\n",
        "bream_length = [25.4, 26.3, 26.5, 29.0, 29.0, 29.7, 29.7, 30.0, 30.0, 30.7, 31.0, 31.0, 31.5, 32.0, 32.0, 32.0, 33.0, 33.0, 33.5, 33.5, 34.0, 34.0, 34.5, 35.0, 35.0, 35.0, 35.0, 36.0, 36.0, 37.0, 38.5, 38.5, 39.5, 41.0, 41.0]\n",
        "bream_weight = [242.0, 290.0, 340.0, 363.0, 430.0, 450.0, 500.0, 390.0, 450.0, 500.0, 475.0, 500.0, 500.0, 340.0, 600.0, 600.0, 700.0, 700.0, 610.0, 650.0, 575.0, 685.0, 620.0, 680.0, 700.0, 725.0, 720.0, 714.0, 850.0, 1000.0, 920.0, 955.0, 925.0, 975.0, 950.0]\n",
        "\n",
        "smelt_length = [9.8, 10.5, 10.6, 11.0, 11.2, 11.3, 11.8, 11.8, 12.0, 12.2, 12.4, 13.0, 14.3, 15.0]\n",
        "smelt_weight = [6.7, 7.5, 7.0, 9.7, 9.8, 8.7, 10.0, 9.9, 9.8, 12.2, 13.4, 12.2, 19.7, 19.9]\n",
        "\n",
        "length = bream_length + smelt_length\n",
        "weight = bream_weight + smelt_weight\n",
        "\n",
        "# zip() 함수와 리스트 내포 구문을 사용해 2차원 리스트 생성\n",
        "\n",
        "fish_data = [[l, w] for l, w in zip(length, weight)]\n",
        "\n",
        "# 정답 데이터 준비\n",
        "# 도미 = 1, 빙어 = 0 으로 설정\n",
        "\n",
        "fish_target = [1] * 35 + [0] * 14"
      ],
      "metadata": {
        "id": "mty06N0Us27w"
      },
      "execution_count": 1,
      "outputs": []
    },
    {
      "cell_type": "code",
      "source": [
        "# numpy 로 전처리\n",
        "import numpy as np\n",
        "\n",
        "fish_data = np.column_stack((length, weight))\n",
        "print(fish_data[:5])"
      ],
      "metadata": {
        "colab": {
          "base_uri": "https://localhost:8080/"
        },
        "id": "-FmY2RXbAApw",
        "outputId": "41235945-abd9-401b-cc86-93df921fb25d"
      },
      "execution_count": 2,
      "outputs": [
        {
          "output_type": "stream",
          "name": "stdout",
          "text": [
            "[[ 25.4 242. ]\n",
            " [ 26.3 290. ]\n",
            " [ 26.5 340. ]\n",
            " [ 29.  363. ]\n",
            " [ 29.  430. ]]\n"
          ]
        }
      ]
    },
    {
      "cell_type": "code",
      "source": [
        "# np.ones\n",
        "# np.zeros\n",
        "\n",
        "fish_target = np.concatenate((np.ones(35), np.zeros(14)))\n",
        "print(fish_target)"
      ],
      "metadata": {
        "colab": {
          "base_uri": "https://localhost:8080/"
        },
        "id": "WyB-ThJhAVXm",
        "outputId": "929a085a-e00d-4967-ffb5-63cf74b0633b"
      },
      "execution_count": 6,
      "outputs": [
        {
          "output_type": "stream",
          "name": "stdout",
          "text": [
            "[1. 1. 1. 1. 1. 1. 1. 1. 1. 1. 1. 1. 1. 1. 1. 1. 1. 1. 1. 1. 1. 1. 1. 1.\n",
            " 1. 1. 1. 1. 1. 1. 1. 1. 1. 1. 1. 0. 0. 0. 0. 0. 0. 0. 0. 0. 0. 0. 0. 0.\n",
            " 0.]\n"
          ]
        }
      ]
    },
    {
      "cell_type": "markdown",
      "source": [
        "이전 절에서는 훈련 세트와 테스트 세트를 직접 나누었다. 지금은 사이킷런의 함수 **train_test_split()**를 이용하여 나눌 것이다.\n",
        "\n",
        "이 함수는 전달되는 리스트나 배열을 섞어준 뒤 비율에 맞게 훈련 세트와 테스트 세트로 나누어 준다.\n",
        "\n"
      ],
      "metadata": {
        "id": "9r0M6UHLgu1j"
      }
    },
    {
      "cell_type": "code",
      "source": [
        "# train_test_split()\n",
        "# 사이킷런의 model_selection 모듈 아래 있으며 다음과 같이 import 할 수 있다.\n",
        "\n",
        "from sklearn.model_selection import train_test_split\n",
        "\n",
        "# 사용법\n",
        "\n",
        "train_input, test_input, train_target, test_target = train_test_split(\n",
        "    fish_data, fish_target, random_state = 42)"
      ],
      "metadata": {
        "id": "DApN7I1ctmlp"
      },
      "execution_count": 8,
      "outputs": []
    },
    {
      "cell_type": "markdown",
      "source": [
        "fish_data 와 fish_target 2개의 배열을 전달했으므로, 2개씩 나뉘어 총 4개의 배열이 반환된다.\n",
        "\n",
        "차례대로 처음 2개는 입력데이터(train_input, test_input), 나머지 2개는 타깃 데이터(train_target, test_target)이다.\n",
        "\n",
        "랜덤 시드는 42로 설정하였다.\n",
        "\n",
        "또한 기본적으로 25%를 테스트 세트로 떼어 낸다."
      ],
      "metadata": {
        "id": "5VhmMKSbu3zk"
      }
    },
    {
      "cell_type": "code",
      "source": [
        "# 잘 되었는지 numpy의 shape 속성을 통해 확인\n",
        "\n",
        "print(train_input.shape, test_input.shape)\n",
        "print(train_target.shape, test_target.shape)"
      ],
      "metadata": {
        "colab": {
          "base_uri": "https://localhost:8080/"
        },
        "id": "VdJOKxcADNGx",
        "outputId": "3e1a0274-a02c-4e07-eea6-d56d147282b3"
      },
      "execution_count": 11,
      "outputs": [
        {
          "output_type": "stream",
          "name": "stdout",
          "text": [
            "(36, 2) (13, 2)\n",
            "(36,) (13,)\n"
          ]
        }
      ]
    },
    {
      "cell_type": "markdown",
      "source": [
        "위 데이터를 보면 잘 섞인 것 같지만 빙어의 비율이 조금 모자란다. 편향이 조금 있고 이처럼 무작위로 데이터를 나누었을 때 샘플이 골고루 섞이지 않을 수 있다.\n",
        "\n",
        "특히 데이터의 개수가 적을 때 이런 일이 생기기 쉽다.\n",
        "\n",
        "train_test_split() 함수는 이런 문제를 간단히 해결 할 수 있다. \n",
        "\n",
        "stratify 매개변수에 타깃 데이터를 전달하면 클래스 비율에 맞게 데이터를 나눈다.\n",
        "\n",
        "```\n",
        "train_input, test_input, train_target, test_target = train_test_split(\n",
        "    fish_data, fish_target, stratify=fish_target, random_state = 42)\n",
        "```\n",
        "\n"
      ],
      "metadata": {
        "id": "9DUihCKzvX71"
      }
    },
    {
      "cell_type": "code",
      "execution_count": 14,
      "metadata": {
        "id": "BK3oK_a80Tt3",
        "colab": {
          "base_uri": "https://localhost:8080/"
        },
        "outputId": "b09233e0-4f94-4318-c7bb-e16edd06443e"
      },
      "outputs": [
        {
          "output_type": "stream",
          "name": "stdout",
          "text": [
            "[0. 0. 1. 0. 1. 0. 1. 1. 1. 1. 1. 1. 1.]\n"
          ]
        }
      ],
      "source": [
        "# stratify 매개변수에 타깃 데이터를 전달하면 클래스 비율에 맞게 데이터를 나눈다.\n",
        "# 위에서 말했듯 데이터의 개수가 적을 때 특히 유용하다.\n",
        "\n",
        "train_input, test_input, train_target, test_target = train_test_split(\n",
        "    fish_data, fish_target, stratify=fish_target, random_state = 42)\n",
        "\n",
        "print(test_target)"
      ]
    },
    {
      "cell_type": "code",
      "source": [
        "# k-최근접 이웃 훈련\n",
        "\n",
        "from sklearn.neighbors import KNeighborsClassifier\n",
        "kn = KNeighborsClassifier()\n",
        "kn.fit(train_input, train_target)\n",
        "kn.score(test_input, test_target)"
      ],
      "metadata": {
        "colab": {
          "base_uri": "https://localhost:8080/"
        },
        "id": "SFI5ArK4hiQI",
        "outputId": "87bcc79c-697b-4dcc-a1da-c7dfa62c9883"
      },
      "execution_count": 15,
      "outputs": [
        {
          "output_type": "execute_result",
          "data": {
            "text/plain": [
              "1.0"
            ]
          },
          "metadata": {},
          "execution_count": 15
        }
      ]
    },
    {
      "cell_type": "code",
      "source": [
        "# 25cm, 150g 의 도미 판별\n",
        "\n",
        "print(kn.predict([[25, 150]]))\n",
        "\n",
        "print(kn.score([[25, 150]], [1])) # score 함수와 predict 함수 차이"
      ],
      "metadata": {
        "colab": {
          "base_uri": "https://localhost:8080/"
        },
        "id": "YxdRdIFiXgRu",
        "outputId": "9c55c9d7-44d7-4c8d-e52a-9e6d34e48ba9"
      },
      "execution_count": 20,
      "outputs": [
        {
          "output_type": "stream",
          "name": "stdout",
          "text": [
            "[0.]\n",
            "0.0\n"
          ]
        }
      ]
    },
    {
      "cell_type": "markdown",
      "source": [
        "도미의 feature가 25cm 와 150g 으로 주어지자 빙어라고 예측\n",
        "\n",
        "문제점을 파악하기 위해 **산점도**로 표현"
      ],
      "metadata": {
        "id": "FUkvr-EbYKDr"
      }
    },
    {
      "cell_type": "code",
      "source": [
        "import matplotlib.pyplot as plt\n",
        "plt.scatter(train_input[:, 0], train_input[:, 1])\n",
        "plt.scatter(25, 150, marker='^')\n",
        "plt.xlabel('length')\n",
        "plt.ylabel('weight')\n",
        "plt.show()"
      ],
      "metadata": {
        "colab": {
          "base_uri": "https://localhost:8080/",
          "height": 279
        },
        "id": "mdP48pnAYYG8",
        "outputId": "041da773-dea5-4c04-f6e8-7636f380196c"
      },
      "execution_count": 21,
      "outputs": [
        {
          "output_type": "display_data",
          "data": {
            "text/plain": [
              "<Figure size 432x288 with 1 Axes>"
            ],
            "image/png": "[encoded data removed]"
          },
          "metadata": {
            "needs_background": "light"
          }
        }
      ]
    },
    {
      "cell_type": "markdown",
      "source": [
        "이 샘플은 분명히 다른 도미 데이터에 더 가깝다.\n",
        "\n",
        "그렇다면 왜 빙어 데이터에 가깝다고 판단한 것일까?\n",
        "\n",
        "k-최근접 이웃은 주변의 샘플 중 다수인 클래스를 예측으로 사용한다.\n",
        "\n",
        "KNeighborsClassifer 클래스는 주어진 샘플에서 가장 가까운 이웃을 찾아주는 kneighbors() 메서드를 제공한다.\n",
        "\n",
        "KNeighborsClassifier 클래스의 이웃 개수인 n_neighbors의 기본값은 5 이므로 5개의 이웃이 반환된다."
      ],
      "metadata": {
        "id": "vVKEplznkIOO"
      }
    },
    {
      "cell_type": "code",
      "source": [
        "distances, indexes = kn.kneighbors([[25, 150]])\n",
        "print(indexes)\n",
        "train_target[indexes]"
      ],
      "metadata": {
        "colab": {
          "base_uri": "https://localhost:8080/"
        },
        "id": "TbvtSstokhBy",
        "outputId": "8a98c745-a0d6-40d0-e17e-d47cca562d2d"
      },
      "execution_count": 24,
      "outputs": [
        {
          "output_type": "stream",
          "name": "stdout",
          "text": [
            "[[21 33 19 30  1]]\n"
          ]
        },
        {
          "output_type": "execute_result",
          "data": {
            "text/plain": [
              "array([[1., 0., 0., 0., 0.]])"
            ]
          },
          "metadata": {},
          "execution_count": 24
        }
      ]
    },
    {
      "cell_type": "code",
      "source": [
        "print(train_input[indexes])"
      ],
      "metadata": {
        "id": "2KHPBkG9fTk9",
        "outputId": "6530cdf0-0eae-46c6-92ef-5e925f2dc625",
        "colab": {
          "base_uri": "https://localhost:8080/"
        }
      },
      "execution_count": 36,
      "outputs": [
        {
          "output_type": "stream",
          "name": "stdout",
          "text": [
            "[[[ 25.4 242. ]\n",
            "  [ 15.   19.9]\n",
            "  [ 14.3  19.7]\n",
            "  [ 13.   12.2]\n",
            "  [ 12.2  12.2]]]\n"
          ]
        }
      ]
    },
    {
      "cell_type": "code",
      "source": [
        "# distances\n",
        "\n",
        "print(distances)"
      ],
      "metadata": {
        "colab": {
          "base_uri": "https://localhost:8080/"
        },
        "id": "EQLsNpevlhMU",
        "outputId": "daf6239d-3ade-49d4-e010-9f7ec06ad77f"
      },
      "execution_count": 39,
      "outputs": [
        {
          "output_type": "stream",
          "name": "stdout",
          "text": [
            "[[ 92.00086956 130.48375378 130.73859415 138.32150953 138.39320793]]\n"
          ]
        }
      ]
    },
    {
      "cell_type": "code",
      "source": [
        "# 산점도로 확인\n",
        "plt.scatter(train_input[:, 0], train_input[:, 1])\n",
        "plt.scatter(25, 150, marker=\"^\")\n",
        "plt.scatter(train_input[indexes, 0], train_input[indexes, 1], marker=\"D\", label = distances)\n",
        "plt.text(25, 260, 92, fontdict={'size': 10})\n",
        "plt.text(14.5, 40, 130, fontdict={'size': 10})\n",
        "plt.xlabel('length')\n",
        "plt.ylabel('weight')\n",
        "plt.show()"
      ],
      "metadata": {
        "colab": {
          "base_uri": "https://localhost:8080/",
          "height": 279
        },
        "id": "szU6Aai8lhU3",
        "outputId": "f9ba7e47-ddf3-44c7-fa0d-d888f159ce84"
      },
      "execution_count": 48,
      "outputs": [
        {
          "output_type": "display_data",
          "data": {
            "text/plain": [
              "<Figure size 432x288 with 1 Axes>"
            ],
            "image/png": "[encoded data removed]"
          },
          "metadata": {
            "needs_background": "light"
          }
        }
      ]
    },
    {
      "cell_type": "markdown",
      "source": [
        "가장 가까운 데이터 5개 중 4개가 빙어로 압도적으로 많음을 확인할 수 있다.\n",
        "\n",
        "객관적으로 보았을 때와 다르다.\n",
        "\n",
        "그리고 가장 가까운 2개의 데이터를 보면 거리가 92 와 130 으로 그래프 상에서 문제가 있는 것을 알 수 있다.\n",
        "\n",
        "x축의 범위는 10 ~ 40 인데 반해, y축의 범위는 0 ~ 1000 으로 큰 차이가 나느 것을 알 수 있다. \n",
        "\n",
        "**이처럼 두 축 간의 범위가 다르기 때문에 동일하게 제곱하여 구한 거리의 값에서 문제가 발생하였다.**"
      ],
      "metadata": {
        "id": "Eq6VkwuFblgH"
      }
    },
    {
      "cell_type": "markdown",
      "source": [
        "따라서 x축 범위 또한 동일하게 지정할 필요가 있다.\n",
        "\n",
        "xlim() 함수 사용"
      ],
      "metadata": {
        "id": "H28WiQyxm18g"
      }
    },
    {
      "cell_type": "code",
      "source": [
        "plt.scatter(train_input[:, 0], train_input[:, 1])\n",
        "plt.scatter(25, 150, marker = \"^\")\n",
        "plt.scatter(train_input[indexes, 0], train_input[indexes, 1], marker = \"D\")\n",
        "plt.xlim((0, 1000))\n",
        "plt.xlabel('length')\n",
        "plt.ylabel('weight')\n",
        "plt.show()"
      ],
      "metadata": {
        "colab": {
          "base_uri": "https://localhost:8080/",
          "height": 279
        },
        "id": "u9zUSmKOnPHI",
        "outputId": "dc33337c-0dad-4ad0-b09c-94c8c0a2f454"
      },
      "execution_count": 49,
      "outputs": [
        {
          "output_type": "display_data",
          "data": {
            "text/plain": [
              "<Figure size 432x288 with 1 Axes>"
            ],
            "image/png": "[encoded data removed]"
          },
          "metadata": {
            "needs_background": "light"
          }
        }
      ]
    },
    {
      "cell_type": "markdown",
      "source": [
        "거의 모든 데이터가 일직선 상에 나타나는 것을 볼 수 있다.\n",
        "\n",
        "결국 x축 데이터인 길이는 큰 영향을 주지 못하게 된다.\n",
        "\n",
        "이런 상황을 두 특성의 **스케일**이 다르다고 한다.\n",
        "\n",
        "이러한 상황에서 알고리즘이 올바르게 예측하기는 힘들다. 특히 거리 기반일 때 문제는 커지게 된다.\n",
        "\n",
        "k-최근접 이웃도 거리 기반이기에 이에 포함된다.\n",
        "\n",
        "이런 알고리즘들은 샘플 간의 거리에 영향을 많이 받으므롤 특성값을 일정한 기준으로 맞춰 주어야 한다. 이런 작업을 **데이터 전처리 data preprocessing**라고 부른다."
      ],
      "metadata": {
        "id": "fBqWTZNRhz2k"
      }
    },
    {
      "cell_type": "markdown",
      "source": [
        "## 데이터 전처리 방법\n",
        "\n",
        "가장 널리 사용하는 방법 중 하나는 **표준점수 standard score**이다. 혹은 z 점수라고 한다.\n",
        "\n",
        "이는 특성값의 평균에서 표준편차의 몇 배만큼 떨어져 있는지를 나타낸다. 이를 통해 실제 특성값의 크기와 상관없이 동일한 조건으로 비교할 수 있다."
      ],
      "metadata": {
        "id": "6UL2mqrlidZN"
      }
    },
    {
      "cell_type": "code",
      "source": [
        "# standard score 사용 전\n",
        "\n",
        "mean = np.mean(train_input, axis = 0)\n",
        "std = np.std(train_input, axis = 0)\n",
        "\n",
        "print(mean)\n",
        "print(std)"
      ],
      "metadata": {
        "colab": {
          "base_uri": "https://localhost:8080/"
        },
        "id": "mJRQ6TGkoQg8",
        "outputId": "0a78e9e4-fcc7-4c4e-9ba6-7a63a1ab9482"
      },
      "execution_count": 51,
      "outputs": [
        {
          "output_type": "stream",
          "name": "stdout",
          "text": [
            "[ 27.29722222 454.09722222]\n",
            "[  9.98244253 323.29893931]\n"
          ]
        }
      ]
    },
    {
      "cell_type": "code",
      "source": [
        "train_scaled = (train_input - mean)/std"
      ],
      "metadata": {
        "id": "OjU-NQHajZX-"
      },
      "execution_count": 52,
      "outputs": []
    },
    {
      "cell_type": "markdown",
      "source": [
        "train_input 의 모든 행에서 mean 과 std 를 이용하여 값을 수정해준다.\n",
        "\n",
        "이러한 numpy 의 기능을 **브로드캐스팅 broadcasting**이라고 한다.\n"
      ],
      "metadata": {
        "id": "uxc5UeX6ji2P"
      }
    },
    {
      "cell_type": "code",
      "source": [
        "# 브로드캐스팅된 데이터로 산점도로 확인\n",
        "\n",
        "plt.scatter(train_scaled[:, 0], train_scaled[:, 1])\n",
        "plt.scatter(25, 150, marker = \"^\")\n",
        "plt.xlabel('length')\n",
        "plt.ylabel('weight')\n",
        "plt.show()"
      ],
      "metadata": {
        "id": "_ypE8Wvsj0U-",
        "outputId": "d491fb46-001c-4eb0-ec9c-c37d78af78d9",
        "colab": {
          "base_uri": "https://localhost:8080/",
          "height": 279
        }
      },
      "execution_count": 55,
      "outputs": [
        {
          "output_type": "display_data",
          "data": {
            "text/plain": [
              "<Figure size 432x288 with 1 Axes>"
            ],
            "image/png": "[encoded data removed]"
          },
          "metadata": {
            "needs_background": "light"
          }
        }
      ]
    },
    {
      "cell_type": "markdown",
      "source": [
        "train_input 은 모두 브로드캐스팅을 통해 train_scaled 로 고쳤지만, 확인하고자 하는 [25, 150] 의 데이터는 수정해주지 않아서 원하는 데이터의 모양이 나오지 않았다.\n",
        "\n",
        "이 데이터도 똑같이 수정후 그려본다."
      ],
      "metadata": {
        "id": "VD6komhAlM_h"
      }
    },
    {
      "cell_type": "code",
      "source": [
        "new = ([25, 150] - mean) / std\n",
        "plt.scatter(train_scaled[:, 0], train_scaled[:, 1])\n",
        "plt.scatter(new[0], new[1], marker = \"^\")\n",
        "plt.xlabel('length')\n",
        "plt.ylabel('weight')\n",
        "plt.show()"
      ],
      "metadata": {
        "id": "ioFu8zxilZwb",
        "outputId": "5d088a41-c817-400f-ef1f-a47c997cc17e",
        "colab": {
          "base_uri": "https://localhost:8080/",
          "height": 279
        }
      },
      "execution_count": 56,
      "outputs": [
        {
          "output_type": "display_data",
          "data": {
            "text/plain": [
              "<Figure size 432x288 with 1 Axes>"
            ],
            "image/png": "[encoded data removed]"
          },
          "metadata": {
            "needs_background": "light"
          }
        }
      ]
    },
    {
      "cell_type": "markdown",
      "source": [
        "두 축의 범위가 -1.5 ~ +1.5 로 바뀌어 비슷한 범위를 차지하는 것을 볼 수 있다.\n",
        "\n",
        "이제 수정된 데이터로 k-최근접 이웃 모델을 다시 훈련해보자"
      ],
      "metadata": {
        "id": "YjfUCREqlwZ8"
      }
    },
    {
      "cell_type": "code",
      "source": [
        "# train_scaled 로 다시 훈련\n",
        "\n",
        "kn.fit(train_scaled, train_target)\n",
        "\n",
        "test_scaled = (test_input - mean) / std\n",
        "\n",
        "kn.score(test_scaled, test_target)"
      ],
      "metadata": {
        "id": "y937mjFmloTo",
        "outputId": "e0459c07-0162-4df6-dc45-9a435e882fee",
        "colab": {
          "base_uri": "https://localhost:8080/"
        }
      },
      "execution_count": 57,
      "outputs": [
        {
          "output_type": "execute_result",
          "data": {
            "text/plain": [
              "1.0"
            ]
          },
          "metadata": {},
          "execution_count": 57
        }
      ]
    },
    {
      "cell_type": "code",
      "source": [
        "print(kn.predict([new]))"
      ],
      "metadata": {
        "id": "v20yVG9hnVoc",
        "outputId": "bc2d324c-d912-4732-f003-7f739d22802b",
        "colab": {
          "base_uri": "https://localhost:8080/"
        }
      },
      "execution_count": 58,
      "outputs": [
        {
          "output_type": "stream",
          "name": "stdout",
          "text": [
            "[1.]\n"
          ]
        }
      ]
    },
    {
      "cell_type": "code",
      "source": [
        "distances, indexes = kn.kneighbors([new])\n",
        "\n",
        "plt.scatter(train_scaled[:, 0], train_scaled[:, 1])\n",
        "plt.scatter(new[0], new[1], marker = \"^\")\n",
        "plt.scatter(train_scaled[indexes, 0], train_scaled[indexes, 1], marker = \"D\")\n",
        "plt.xlabel('length')\n",
        "plt.ylabel('weight')\n",
        "plt.show()"
      ],
      "metadata": {
        "id": "l6imf_T8nZWm",
        "outputId": "744f391a-0d73-4e44-ea52-0c104af742b9",
        "colab": {
          "base_uri": "https://localhost:8080/",
          "height": 279
        }
      },
      "execution_count": 59,
      "outputs": [
        {
          "output_type": "display_data",
          "data": {
            "text/plain": [
              "<Figure size 432x288 with 1 Axes>"
            ],
            "image/png": "[encoded data removed]"
          },
          "metadata": {
            "needs_background": "light"
          }
        }
      ]
    },
    {
      "cell_type": "markdown",
      "source": [
        "가장 가까운 샘플은 모두 도미이다. 따라서 예측 값도 당연히 도미로 나오게 된다."
      ],
      "metadata": {
        "id": "zdiAphNDnzM8"
      }
    },
    {
      "cell_type": "markdown",
      "source": [
        "### 고찰\n",
        "\n",
        "위의 train_scaled 로 다시 훈련 셀에서\n",
        "\n",
        "```\n",
        "test_scaled = (test_input - mean) / std\n",
        "```\n",
        "test_input 또한 브로드캐스팅을 해주는 것은 타당하다. 그렇지만 이 과정에서 사용하는 mean 과 std 는\n",
        "\n",
        "\n",
        "```\n",
        "mean = np.mean(train_input, axis = 0)\n",
        "std = np.std(train_input, axis = 0)\n",
        "```\n",
        "\n",
        "train_input 을 통해 얻은 값으로 훈련 세트가 크게 관여한다.\n",
        "\n",
        "결국 train_set 과 test_set 으로 나누는 과정부터 훈련의 성과에 더 크게 영향을 줄 수도 있고, 당연히 테스트 세트가 아닌 실제 데이터에서도 영향을 크게 줄 것으로 보인다.\n",
        "\n"
      ],
      "metadata": {
        "id": "ywx7fDpHogsx"
      }
    }
  ]
}