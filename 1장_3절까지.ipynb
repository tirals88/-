{
  "nbformat": 4,
  "nbformat_minor": 0,
  "metadata": {
    "colab": {
      "provenance": [],
      "collapsed_sections": [
        "mSvnn-ZWd9ef",
        "UhcQBmxwO5Vm"
      ],
      "include_colab_link": true
    },
    "kernelspec": {
      "name": "python3",
      "display_name": "Python 3"
    },
    "language_info": {
      "name": "python"
    }
  },
  "cells": [
    {
      "cell_type": "markdown",
      "metadata": {
        "id": "view-in-github",
        "colab_type": "text"
      },
      "source": [
        "<a href=\"https://colab.research.google.com/github/tirals88/Alone-ML-DL/blob/main/1%EC%9E%A5_3%EC%A0%88%EA%B9%8C%EC%A7%80.ipynb\" target=\"_parent\"><img src=\"https://colab.research.google.com/assets/colab-badge.svg\" alt=\"Open In Colab\"/></a>"
      ]
    },
    {
      "cell_type": "markdown",
      "source": [
        "'혼자 공부하는 머신러닝 + 딥러닝' 책 스터디 내용을 jupyter notebook으로 정리하여 올립니다.\n",
        "\n",
        "Github 주소 : 'https://github.com/rickiepark/hg-mldl'\n",
        "\n",
        "**혼자 공부하는 머신러닝+딥러닝**\n",
        "\n",
        "https://hanbit.co.kr/store/books/look.php?p_code=B2002963743\n",
        "\n",
        "01 ~ 06 머신러닝 파트  \n",
        "07 ~ 09 딥러닝 파트"
      ],
      "metadata": {
        "id": "WdeE-kzODzDl"
      }
    },
    {
      "cell_type": "markdown",
      "source": [
        "# 01-1 인공지능과 머신러닝, 딥러닝\n",
        "\n",
        "영화와 소설, 드리마 등에서 인공지능 시스템은 흔하지만, 실생활에서 체험하기에는 아직 어렵다.<br/>이는 영화와 현실에서의 두 기술이 다르기 때문이다.\n",
        "\n",
        "흔히 영화속에서 다루는 인공지능은 **인공일반지능 artificial general intelligence**, 혹은 **강인공지능 Strong AI**이라고 부르는 인공지능이다.\n",
        "- 사람과 구분하기 어려운 지능을 가진 컴퓨터 시스템이 인공일반지능이다.\n",
        "\n",
        "반면 현실에서 우리가 마주하고 있는 인공지능은 **약인공지능 Weak AI**이다.<br/>이는 특정분야에서 사람의 보조 역할을 한다.\n",
        "- 이의 예시가 자율 주행, 음악 추천, 기계 번역, 알파고이다.\n",
        "\n",
        "## 머신러닝이란\n",
        "\n",
        "머신러닝 machine learning은 규칙을 **일일이 프로그래밍하지 않아도 자동으로** 데이터에서 규칙을 학습하는 알고리즘을 연구하는 분야이다.<br/>컴퓨터 과학 분야의 대표적인 머신러닝 라이브러리는 **사이킷런 scikit-learn**이다.\n",
        "\n",
        "이 책에서는 1장부터 6장까지 사이킷런에 포함된 다양한 머신러닝 알고리즘을 배울 것이다.\n",
        "\n",
        "## 딥러닝이란\n",
        "\n",
        "많은 머신러닝 알고리즘 중에서 **인공 신경망 artificial neural network**을 기반으로 한 방법들을 통칭하여 **딥러닝 Deep learning**이라고 부른다.\n",
        "\n",
        "인공 신경망이 이전과 다르게 놀라운 성능을 달성하게 된 원동력으로 크게 세가지를 꼽을 수 있다.\n",
        "\n",
        "- 풍부한 데이터\n",
        "- 컴퓨터 성능의 향상\n",
        "- 혁신적인 알고리즘 개발\n",
        "\n",
        "딥러닝 라이브러리로는 구글의 **텐서플로우 TensorFlow**, 페이스북의 **파이토치 PyTorch**가 있다."
      ],
      "metadata": {
        "id": "mSvnn-ZWd9ef"
      }
    },
    {
      "cell_type": "markdown",
      "source": [
        "# 01-3 생선 분류 문제\n",
        "\n",
        "- 여러개의 도미 생선을 보면 스스로 어떤 생선이 도미인지 구분할 기준을 찾는다.\n",
        "- 35 마리의 도미의 길이와 무게 데이터 준비"
      ],
      "metadata": {
        "id": "9r0M6UHLgu1j"
      }
    },
    {
      "cell_type": "code",
      "execution_count": 1,
      "metadata": {
        "id": "BK3oK_a80Tt3",
        "colab": {
          "base_uri": "https://localhost:8080/",
          "height": 295
        },
        "outputId": "1d941aba-943b-46b8-de55-3392d3c4c7e8"
      },
      "outputs": [
        {
          "output_type": "display_data",
          "data": {
            "text/plain": [
              "<Figure size 432x288 with 1 Axes>"
            ],
            "image/png": "[encoded data removed]"
          },
          "metadata": {
            "needs_background": "light"
          }
        }
      ],
      "source": [
        "import matplotlib.pyplot as plt\n",
        "\n",
        "bream_length = [25.4, 26.3, 26.5, 29.0, 29.0, 29.7, 29.7, 30.0, 30.0, 30.7, 31.0, 31.0, 31.5, 32.0, 32.0, 32.0, 33.0, 33.0, 33.5, 33.5, 34.0, 34.0, 34.5, 35.0, 35.0, 35.0, 35.0, 36.0, 36.0, 37.0, 38.5, 38.5, 39.5, 41.0, 41.0]\n",
        "bream_weight = [242.0, 290.0, 340.0, 363.0, 430.0, 450.0, 500.0, 390.0, 450.0, 500.0, 475.0, 500.0, 500.0, 340.0, 600.0, 600.0, 700.0, 700.0, 610.0, 650.0, 575.0, 685.0, 620.0, 680.0, 700.0, 725.0, 720.0, 714.0, 850.0, 1000.0, 920.0, 955.0, 925.0, 975.0, 950.0]\n",
        "\n",
        "# scatter plot\n",
        "\n",
        "plt.scatter(bream_length, bream_weight)\n",
        "plt.title('Bream length-weight')\n",
        "plt.xlabel('length')\n",
        "plt.ylabel('weight')\n",
        "plt.show()"
      ]
    },
    {
      "cell_type": "markdown",
      "source": [
        "- 14 마리의 빙어 데이터 준비"
      ],
      "metadata": {
        "id": "m3ydM5zWjClI"
      }
    },
    {
      "cell_type": "code",
      "source": [
        "smelt_length = [9.8, 10.5, 10.6, 11.0, 11.2, 11.3, 11.8, 11.8, 12.0, 12.2, 12.4, 13.0, 14.3, 15.0]\n",
        "smelt_weight = [6.7, 7.5, 7.0, 9.7, 9.8, 8.7, 10.0, 9.9, 9.8, 12.2, 13.4, 12.2, 19.7, 19.9]\n",
        "\n",
        "plt.scatter(bream_length, bream_weight, label = 'Bream')\n",
        "plt.scatter(smelt_length, smelt_weight, label = 'Smelt')\n",
        "plt.title('Bream & Smelt length-weight')\n",
        "plt.xlabel('length')\n",
        "plt.ylabel('weight')\n",
        "plt.legend()\n",
        "plt.show()"
      ],
      "metadata": {
        "colab": {
          "base_uri": "https://localhost:8080/",
          "height": 295
        },
        "id": "SFI5ArK4hiQI",
        "outputId": "9bb681c2-a5ea-43cf-f6d9-68c505e7e10b"
      },
      "execution_count": 2,
      "outputs": [
        {
          "output_type": "display_data",
          "data": {
            "text/plain": [
              "<Figure size 432x288 with 1 Axes>"
            ],
            "image/png": "[encoded data removed]"
          },
          "metadata": {
            "needs_background": "light"
          }
        }
      ]
    },
    {
      "cell_type": "markdown",
      "source": [
        "## k-최근접 이웃 k-Nearest Neighbors 알고리즘\n",
        "\n",
        "- 두 데이터를 하나의 데이터로 합침 (총 데이터의 길이는 각 49개)\n",
        "- 이 두 데이터를 2차원 데이터로 변환"
      ],
      "metadata": {
        "id": "vVKEplznkIOO"
      }
    },
    {
      "cell_type": "code",
      "source": [
        "length = bream_length + smelt_length\n",
        "weight = bream_weight + smelt_weight\n",
        "\n",
        "# zip() 함수와 리스트 내포 구문을 사용해 2차원 리스트 생성\n",
        "\n",
        "fish_data = [[l, w] for l, w in zip(length, weight)]\n",
        "print(fish_data)"
      ],
      "metadata": {
        "colab": {
          "base_uri": "https://localhost:8080/"
        },
        "id": "TbvtSstokhBy",
        "outputId": "5e405901-31df-40fb-aa6e-b7a0ca13de53"
      },
      "execution_count": 3,
      "outputs": [
        {
          "output_type": "stream",
          "name": "stdout",
          "text": [
            "[[25.4, 242.0], [26.3, 290.0], [26.5, 340.0], [29.0, 363.0], [29.0, 430.0], [29.7, 450.0], [29.7, 500.0], [30.0, 390.0], [30.0, 450.0], [30.7, 500.0], [31.0, 475.0], [31.0, 500.0], [31.5, 500.0], [32.0, 340.0], [32.0, 600.0], [32.0, 600.0], [33.0, 700.0], [33.0, 700.0], [33.5, 610.0], [33.5, 650.0], [34.0, 575.0], [34.0, 685.0], [34.5, 620.0], [35.0, 680.0], [35.0, 700.0], [35.0, 725.0], [35.0, 720.0], [36.0, 714.0], [36.0, 850.0], [37.0, 1000.0], [38.5, 920.0], [38.5, 955.0], [39.5, 925.0], [41.0, 975.0], [41.0, 950.0], [9.8, 6.7], [10.5, 7.5], [10.6, 7.0], [11.0, 9.7], [11.2, 9.8], [11.3, 8.7], [11.8, 10.0], [11.8, 9.9], [12.0, 9.8], [12.2, 12.2], [12.4, 13.4], [13.0, 12.2], [14.3, 19.7], [15.0, 19.9]]\n"
          ]
        }
      ]
    },
    {
      "cell_type": "code",
      "source": [
        "# 정답 데이터 준비\n",
        "# 도미 = 1, 빙어 = 0 으로 설정\n",
        "\n",
        "fish_target = [1] * 35 + [0] * 14\n",
        "print(fish_target)"
      ],
      "metadata": {
        "colab": {
          "base_uri": "https://localhost:8080/"
        },
        "id": "szU6Aai8lhU3",
        "outputId": "6a3db0fa-5f9b-44d1-e633-7264e82919ef"
      },
      "execution_count": 4,
      "outputs": [
        {
          "output_type": "stream",
          "name": "stdout",
          "text": [
            "[1, 1, 1, 1, 1, 1, 1, 1, 1, 1, 1, 1, 1, 1, 1, 1, 1, 1, 1, 1, 1, 1, 1, 1, 1, 1, 1, 1, 1, 1, 1, 1, 1, 1, 1, 0, 0, 0, 0, 0, 0, 0, 0, 0, 0, 0, 0, 0, 0]\n"
          ]
        }
      ]
    },
    {
      "cell_type": "code",
      "source": [
        "# k-최근접 이웃 알고리즘을 구현한 클래스인 KNeightborsClassifier\n",
        "\n",
        "from sklearn.neighbors import KNeighborsClassifier\n",
        "\n",
        "#KNeighborsClassifier 클래스의 객체를 생성\n",
        "\n",
        "kn = KNeighborsClassifier()\n",
        "\n",
        "# fit() 메서드로 훈련\n",
        "\n",
        "kn.fit(fish_data, fish_target)\n",
        "\n",
        "# score() 메서드로 훈련 평가 (0 ~ 1 사이의 값을 반환)\n",
        "kn.score(fish_data, fish_target)"
      ],
      "metadata": {
        "colab": {
          "base_uri": "https://localhost:8080/"
        },
        "id": "EQLsNpevlhMU",
        "outputId": "1825c1c9-85ec-42b9-82fa-b44edbba1d11"
      },
      "execution_count": 5,
      "outputs": [
        {
          "output_type": "execute_result",
          "data": {
            "text/plain": [
              "1.0"
            ]
          },
          "metadata": {},
          "execution_count": 5
        }
      ]
    },
    {
      "cell_type": "markdown",
      "source": [
        "## k-최근접 이웃 알고리즘\n",
        "\n",
        "어떠한 데이터에 대한 답을 구할 떄 주위의 다른 데이터를 보고 다수를 차지하는 것을 정답으로 사용한다.\n",
        "- 주위의 데이터로 현재 데이터를 판단\n",
        "- 새로운 데이터에 대한 예측학 때는 가장 가까운 직선거리에 어떤 데이터가 있는지를 살피기만 하면 된다.\n",
        "- 단점은 데이터가 아주 많은 경우 사용하기 어렵다.\n",
        "\n",
        "30cm / 600g 의 생선을 판단 예시"
      ],
      "metadata": {
        "id": "H28WiQyxm18g"
      }
    },
    {
      "cell_type": "code",
      "source": [
        "plt.scatter(bream_length, bream_weight, label = 'Bream')\n",
        "plt.scatter(smelt_length, smelt_weight, label = 'Smelt')\n",
        "plt.scatter([30], [600], label = 'unknown')\n",
        "plt.title('Bream & Smelt length-weight')\n",
        "plt.xlabel('length')\n",
        "plt.ylabel('weight')\n",
        "plt.legend()\n",
        "plt.show()\n",
        "\n",
        "print('unkown data predict')\n",
        "kn.predict([[30, 600]])"
      ],
      "metadata": {
        "colab": {
          "base_uri": "https://localhost:8080/",
          "height": 333
        },
        "id": "u9zUSmKOnPHI",
        "outputId": "89498a63-d94f-40ac-ecc4-97ee746db7f0"
      },
      "execution_count": 6,
      "outputs": [
        {
          "output_type": "display_data",
          "data": {
            "text/plain": [
              "<Figure size 432x288 with 1 Axes>"
            ],
            "image/png": "[encoded data removed]"
          },
          "metadata": {
            "needs_background": "light"
          }
        },
        {
          "output_type": "stream",
          "name": "stdout",
          "text": [
            "unkown data predict\n"
          ]
        },
        {
          "output_type": "execute_result",
          "data": {
            "text/plain": [
              "array([1])"
            ]
          },
          "metadata": {},
          "execution_count": 6
        }
      ]
    },
    {
      "cell_type": "code",
      "source": [
        "# _fit_x 에 fish_data를 모두 가지고 있다\n",
        "# _y 에 fish_target을 모두 가지고 있다.\n",
        "\n",
        "print(kn._fit_X)\n",
        "print(kn._y)"
      ],
      "metadata": {
        "colab": {
          "base_uri": "https://localhost:8080/"
        },
        "id": "mJRQ6TGkoQg8",
        "outputId": "47a6e4fa-8ffc-4fc6-f3e5-f8128732403e"
      },
      "execution_count": 7,
      "outputs": [
        {
          "output_type": "stream",
          "name": "stdout",
          "text": [
            "[[  25.4  242. ]\n",
            " [  26.3  290. ]\n",
            " [  26.5  340. ]\n",
            " [  29.   363. ]\n",
            " [  29.   430. ]\n",
            " [  29.7  450. ]\n",
            " [  29.7  500. ]\n",
            " [  30.   390. ]\n",
            " [  30.   450. ]\n",
            " [  30.7  500. ]\n",
            " [  31.   475. ]\n",
            " [  31.   500. ]\n",
            " [  31.5  500. ]\n",
            " [  32.   340. ]\n",
            " [  32.   600. ]\n",
            " [  32.   600. ]\n",
            " [  33.   700. ]\n",
            " [  33.   700. ]\n",
            " [  33.5  610. ]\n",
            " [  33.5  650. ]\n",
            " [  34.   575. ]\n",
            " [  34.   685. ]\n",
            " [  34.5  620. ]\n",
            " [  35.   680. ]\n",
            " [  35.   700. ]\n",
            " [  35.   725. ]\n",
            " [  35.   720. ]\n",
            " [  36.   714. ]\n",
            " [  36.   850. ]\n",
            " [  37.  1000. ]\n",
            " [  38.5  920. ]\n",
            " [  38.5  955. ]\n",
            " [  39.5  925. ]\n",
            " [  41.   975. ]\n",
            " [  41.   950. ]\n",
            " [   9.8    6.7]\n",
            " [  10.5    7.5]\n",
            " [  10.6    7. ]\n",
            " [  11.     9.7]\n",
            " [  11.2    9.8]\n",
            " [  11.3    8.7]\n",
            " [  11.8   10. ]\n",
            " [  11.8    9.9]\n",
            " [  12.     9.8]\n",
            " [  12.2   12.2]\n",
            " [  12.4   13.4]\n",
            " [  13.    12.2]\n",
            " [  14.3   19.7]\n",
            " [  15.    19.9]]\n",
            "[1 1 1 1 1 1 1 1 1 1 1 1 1 1 1 1 1 1 1 1 1 1 1 1 1 1 1 1 1 1 1 1 1 1 1 0 0\n",
            " 0 0 0 0 0 0 0 0 0 0 0 0]\n"
          ]
        }
      ]
    },
    {
      "cell_type": "markdown",
      "source": [
        "### 고찰\n",
        "\n",
        "실제로 k-최근접 이웃 알고리즘은 무언가 훈련되는 게 없는 셈이다. 그저 가장 가까운 데이터를 참고하는 것 뿐이다.\n",
        "\n",
        "그럼 가까운 몇 개의 데이터를 참고하는가? 이는 정하기 나름이다. KNeighborsClassifier 클래스의 기본값은 5 이다. 이 기준은 n_neighbors 매개변수로 바꿀 수 있다."
      ],
      "metadata": {
        "id": "ywx7fDpHogsx"
      }
    },
    {
      "cell_type": "code",
      "source": [
        "kn49 = KNeighborsClassifier(n_neighbors=49) # 참고 데이터를 49개로 한 kn49 모델\n",
        "\n",
        "kn49.fit(fish_data, fish_target)\n",
        "print(kn49.score(fish_data, fish_target))\n",
        "print(kn49.score(fish_data[:35], fish_target[:35]))\n",
        "print(kn49.score(fish_data[35:], fish_target[35:]))\n",
        "sub_data = fish_data[30:40]\n",
        "sub_target = fish_target[30:40]\n",
        "print(kn49.score(sub_data, sub_target))\n",
        "\n",
        "print(35/49) # 35 마리의 도미만을 제대로 맞추었음을 확인"
      ],
      "metadata": {
        "colab": {
          "base_uri": "https://localhost:8080/"
        },
        "id": "MUTyS6Zro9hd",
        "outputId": "8f4656bb-8912-4c22-ad60-b1ee58cb913d"
      },
      "execution_count": 8,
      "outputs": [
        {
          "output_type": "stream",
          "name": "stdout",
          "text": [
            "0.7142857142857143\n",
            "1.0\n",
            "0.0\n",
            "0.5\n",
            "0.7142857142857143\n"
          ]
        }
      ]
    },
    {
      "cell_type": "code",
      "source": [
        "# 그럼 과연 n_neighbors 가 몇이 되는 순간 부터 점수가 1.0 이하로 떨어지는지 찾고자 할 때,\n",
        "# KNeighborsClassifier 클래스 객체를 매번 다시 만들 필요는 없다.\n",
        "# 심지어 fit() 메서드도 훈련을 다시 할 필요가 없다. 훈련이 데이터를 저장하는 것 뿐이기 때문이다.\n",
        "\n",
        "kn = KNeighborsClassifier()\n",
        "kn.fit(fish_data, fish_target)\n",
        "\n",
        "for n in range(5, 50):\n",
        "  # k-최근접 이웃 개수 설정\n",
        "  kn.n_neighbors = n\n",
        "  score = kn.score(fish_data, fish_target)\n",
        "  if score < 1:\n",
        "    print(n, score)\n",
        "    kn.n_neighbors = n-1\n",
        "    score = kn.score(fish_data, fish_target)\n",
        "    print(n-1, score)\n",
        "    break"
      ],
      "metadata": {
        "colab": {
          "base_uri": "https://localhost:8080/"
        },
        "id": "4PC63xsxijUv",
        "outputId": "34d786b4-27c8-4aaa-c79e-bfb1c5b69cf5"
      },
      "execution_count": 14,
      "outputs": [
        {
          "output_type": "stream",
          "name": "stdout",
          "text": [
            "18 0.9795918367346939\n",
            "17 1.0\n"
          ]
        }
      ]
    }
  ]
}